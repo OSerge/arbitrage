{
 "cells": [
  {
   "cell_type": "code",
   "execution_count": 29,
   "metadata": {},
   "outputs": [],
   "source": [
    "import numpy as np\n",
    "import pandas as pd\n",
    "\n",
    "from statsmodels.tsa.stattools import coint\n"
   ]
  },
  {
   "cell_type": "code",
   "execution_count": null,
   "metadata": {},
   "outputs": [],
   "source": [
    "from typing import List"
   ]
  },
  {
   "cell_type": "code",
   "execution_count": 26,
   "metadata": {},
   "outputs": [],
   "source": [
    "def join_pair(security_1: pd.DataFrame, security_2: pd.DataFrame ) -> pd.DataFrame:\n",
    "    \"\"\"\n",
    "    Склеивает загруженные датафреймы фьючерсов по полю 'close'.\n",
    "    Возвращает DataFrame, где столбцы — это символы, а строки — общие индексы (timestamp), без NaN.\n",
    "    \"\"\"\n",
    "    data = pd.merge(\n",
    "        security_1['close'], \n",
    "        security_2['close'], \n",
    "        left_index=True, \n",
    "        right_index=True, \n",
    "        suffixes=(\"_1\", \"_2\")\n",
    "    )\n",
    "    return data\n"
   ]
  },
  {
   "cell_type": "code",
   "execution_count": 31,
   "metadata": {},
   "outputs": [],
   "source": [
    "df1 = pd.read_csv(\"../data/SRM5.csv\", index_col=\"time\")\n",
    "df2 = pd.read_csv(\"../data/SPM5.csv\", index_col=\"time\")"
   ]
  },
  {
   "cell_type": "code",
   "execution_count": 19,
   "metadata": {},
   "outputs": [
    {
     "data": {
      "text/html": [
       "<div>\n",
       "<style scoped>\n",
       "    .dataframe tbody tr th:only-of-type {\n",
       "        vertical-align: middle;\n",
       "    }\n",
       "\n",
       "    .dataframe tbody tr th {\n",
       "        vertical-align: top;\n",
       "    }\n",
       "\n",
       "    .dataframe thead th {\n",
       "        text-align: right;\n",
       "    }\n",
       "</style>\n",
       "<table border=\"1\" class=\"dataframe\">\n",
       "  <thead>\n",
       "    <tr style=\"text-align: right;\">\n",
       "      <th></th>\n",
       "      <th>close</th>\n",
       "      <th>open</th>\n",
       "      <th>high</th>\n",
       "      <th>low</th>\n",
       "      <th>volume</th>\n",
       "    </tr>\n",
       "    <tr>\n",
       "      <th>time</th>\n",
       "      <th></th>\n",
       "      <th></th>\n",
       "      <th></th>\n",
       "      <th></th>\n",
       "      <th></th>\n",
       "    </tr>\n",
       "  </thead>\n",
       "  <tbody>\n",
       "    <tr>\n",
       "      <th>1741683600</th>\n",
       "      <td>33719.0</td>\n",
       "      <td>33751.0</td>\n",
       "      <td>33786.0</td>\n",
       "      <td>33618.0</td>\n",
       "      <td>634</td>\n",
       "    </tr>\n",
       "    <tr>\n",
       "      <th>1741687200</th>\n",
       "      <td>33803.0</td>\n",
       "      <td>33735.0</td>\n",
       "      <td>33840.0</td>\n",
       "      <td>33735.0</td>\n",
       "      <td>376</td>\n",
       "    </tr>\n",
       "    <tr>\n",
       "      <th>1741690800</th>\n",
       "      <td>33663.0</td>\n",
       "      <td>33771.0</td>\n",
       "      <td>33822.0</td>\n",
       "      <td>33648.0</td>\n",
       "      <td>640</td>\n",
       "    </tr>\n",
       "    <tr>\n",
       "      <th>1741694400</th>\n",
       "      <td>33723.0</td>\n",
       "      <td>33650.0</td>\n",
       "      <td>33738.0</td>\n",
       "      <td>33624.0</td>\n",
       "      <td>1121</td>\n",
       "    </tr>\n",
       "    <tr>\n",
       "      <th>1741698000</th>\n",
       "      <td>33822.0</td>\n",
       "      <td>33728.0</td>\n",
       "      <td>33840.0</td>\n",
       "      <td>33719.0</td>\n",
       "      <td>491</td>\n",
       "    </tr>\n",
       "  </tbody>\n",
       "</table>\n",
       "</div>"
      ],
      "text/plain": [
       "              close     open     high      low  volume\n",
       "time                                                  \n",
       "1741683600  33719.0  33751.0  33786.0  33618.0     634\n",
       "1741687200  33803.0  33735.0  33840.0  33735.0     376\n",
       "1741690800  33663.0  33771.0  33822.0  33648.0     640\n",
       "1741694400  33723.0  33650.0  33738.0  33624.0    1121\n",
       "1741698000  33822.0  33728.0  33840.0  33719.0     491"
      ]
     },
     "execution_count": 19,
     "metadata": {},
     "output_type": "execute_result"
    }
   ],
   "source": [
    "df1.head()"
   ]
  },
  {
   "cell_type": "code",
   "execution_count": 32,
   "metadata": {},
   "outputs": [],
   "source": [
    "merged_df = join_pair(df1, df2)"
   ]
  },
  {
   "cell_type": "code",
   "execution_count": 33,
   "metadata": {},
   "outputs": [
    {
     "data": {
      "text/html": [
       "<div>\n",
       "<style scoped>\n",
       "    .dataframe tbody tr th:only-of-type {\n",
       "        vertical-align: middle;\n",
       "    }\n",
       "\n",
       "    .dataframe tbody tr th {\n",
       "        vertical-align: top;\n",
       "    }\n",
       "\n",
       "    .dataframe thead th {\n",
       "        text-align: right;\n",
       "    }\n",
       "</style>\n",
       "<table border=\"1\" class=\"dataframe\">\n",
       "  <thead>\n",
       "    <tr style=\"text-align: right;\">\n",
       "      <th></th>\n",
       "      <th>close_1</th>\n",
       "      <th>close_2</th>\n",
       "    </tr>\n",
       "    <tr>\n",
       "      <th>time</th>\n",
       "      <th></th>\n",
       "      <th></th>\n",
       "    </tr>\n",
       "  </thead>\n",
       "  <tbody>\n",
       "    <tr>\n",
       "      <th>1741683600</th>\n",
       "      <td>33719.0</td>\n",
       "      <td>33438.0</td>\n",
       "    </tr>\n",
       "    <tr>\n",
       "      <th>1741687200</th>\n",
       "      <td>33803.0</td>\n",
       "      <td>33514.0</td>\n",
       "    </tr>\n",
       "    <tr>\n",
       "      <th>1741690800</th>\n",
       "      <td>33663.0</td>\n",
       "      <td>33470.0</td>\n",
       "    </tr>\n",
       "    <tr>\n",
       "      <th>1741694400</th>\n",
       "      <td>33723.0</td>\n",
       "      <td>33458.0</td>\n",
       "    </tr>\n",
       "    <tr>\n",
       "      <th>1741698000</th>\n",
       "      <td>33822.0</td>\n",
       "      <td>33559.0</td>\n",
       "    </tr>\n",
       "  </tbody>\n",
       "</table>\n",
       "</div>"
      ],
      "text/plain": [
       "            close_1  close_2\n",
       "time                        \n",
       "1741683600  33719.0  33438.0\n",
       "1741687200  33803.0  33514.0\n",
       "1741690800  33663.0  33470.0\n",
       "1741694400  33723.0  33458.0\n",
       "1741698000  33822.0  33559.0"
      ]
     },
     "metadata": {},
     "output_type": "display_data"
    }
   ],
   "source": [
    "display(merged_df.head())"
   ]
  },
  {
   "cell_type": "code",
   "execution_count": 34,
   "metadata": {},
   "outputs": [
    {
     "name": "stdout",
     "output_type": "stream",
     "text": [
      "<class 'pandas.core.frame.DataFrame'>\n",
      "Index: 941 entries, 1741683600 to 1749459600\n",
      "Data columns (total 2 columns):\n",
      " #   Column   Non-Null Count  Dtype  \n",
      "---  ------   --------------  -----  \n",
      " 0   close_1  941 non-null    float64\n",
      " 1   close_2  941 non-null    float64\n",
      "dtypes: float64(2)\n",
      "memory usage: 22.1 KB\n"
     ]
    }
   ],
   "source": [
    "merged_df.info()"
   ]
  },
  {
   "cell_type": "code",
   "execution_count": 39,
   "metadata": {},
   "outputs": [
    {
     "data": {
      "text/plain": [
       "pandas.core.series.Series"
      ]
     },
     "execution_count": 39,
     "metadata": {},
     "output_type": "execute_result"
    }
   ],
   "source": [
    "type(merged_df['close_1'])"
   ]
  },
  {
   "cell_type": "code",
   "execution_count": 35,
   "metadata": {},
   "outputs": [
    {
     "name": "stdout",
     "output_type": "stream",
     "text": [
      "Cointegration Test Score: -5.803442891446174\n",
      "P-value: 4.257649142923966e-06\n"
     ]
    }
   ],
   "source": [
    "# Perform cointegration test\n",
    "score, p_value, _ = coint(merged_df['close_1'], merged_df['close_2'])\n",
    "\n",
    "print(f'Cointegration Test Score: {score}')\n",
    "print(f'P-value: {p_value}')"
   ]
  },
  {
   "cell_type": "code",
   "execution_count": null,
   "metadata": {},
   "outputs": [],
   "source": [
    "def join_all_securities(security_1: pd.DataFrame, security_2: pd.DataFrame ) -> pd.DataFrame:\n",
    "    \"\"\"\n",
    "    Склеивает загруженные датафреймы фьючерсов по полю 'close'.\n",
    "    Возвращает DataFrame, где столбцы — это символы, а строки — общие индексы (timestamp), без NaN.\n",
    "    \"\"\"\n",
    "    data = pd.merge(\n",
    "        security_1['close'], \n",
    "        security_2['close'], \n",
    "        left_index=True, \n",
    "        right_index=True, \n",
    "        suffixes=(\"_1\", \"_2\")\n",
    "    )\n",
    "    return data"
   ]
  },
  {
   "cell_type": "code",
   "execution_count": 49,
   "metadata": {},
   "outputs": [],
   "source": [
    "futures = [\n",
    "    \"GKM5\", # Обыкновенные акции ПАО «ГМК «Норильский никель»\n",
    "    \"GZM5\", # Газпром обыкновенные\n",
    "    \"CHM5\", # обыкновенные акции ПАО «Северсталь»\n",
    "    \"TTM5\", # Татнефть\n",
    "    \"TNM5\", # Транснефть\n",
    "    \"RNM5\", # Роснефть\n",
    "    \"LKM5\", # Лукойл\n",
    "    \"SRM5\", # обыкновенные акции ПАО Сбербанк\n",
    "    \"SPM5\", # привилег. акции ПАО Сбербанк\n",
    "    \"VBM5\", # ВТБ\n",
    "    \"GDM5\", # золото\n",
    "    \"SVM5\", # серебро\n",
    "]"
   ]
  },
  {
   "cell_type": "code",
   "execution_count": 41,
   "metadata": {},
   "outputs": [],
   "source": [
    "from itertools import combinations"
   ]
  },
  {
   "cell_type": "code",
   "execution_count": 50,
   "metadata": {},
   "outputs": [
    {
     "data": {
      "text/plain": [
       "[('GKM5', 'GZM5'), ('GKM5', 'CHM5'), ('GZM5', 'CHM5')]"
      ]
     },
     "execution_count": 50,
     "metadata": {},
     "output_type": "execute_result"
    }
   ],
   "source": [
    "list(combinations(futures, 2))"
   ]
  }
 ],
 "metadata": {
  "kernelspec": {
   "display_name": ".venv",
   "language": "python",
   "name": "python3"
  },
  "language_info": {
   "codemirror_mode": {
    "name": "ipython",
    "version": 3
   },
   "file_extension": ".py",
   "mimetype": "text/x-python",
   "name": "python",
   "nbconvert_exporter": "python",
   "pygments_lexer": "ipython3",
   "version": "3.13.2"
  }
 },
 "nbformat": 4,
 "nbformat_minor": 2
}
